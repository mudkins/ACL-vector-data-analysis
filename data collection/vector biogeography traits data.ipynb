{
 "cells": [
  {
   "cell_type": "code",
   "execution_count": 2,
   "metadata": {
    "scrolled": false
   },
   "outputs": [],
   "source": [
    "#before running the code, it's important that you have downloaded the google earth enging api to python or r\n",
    "import ee\n",
    "import pandas as pd\n",
    "\n",
    "# Trigger the authentication flow. This only needs to be done once,\n",
    "# and ensures that you have access to google earth engine through your google account\n",
    "# ee.Authenticate()\n",
    "\n",
    "# Initialize the library.\n",
    "# ee.Initialize()"
   ]
  },
  {
   "cell_type": "code",
   "execution_count": 31,
   "metadata": {},
   "outputs": [],
   "source": [
    "#read in the latlong csv\n",
    "latlong = pd.read_csv('ACL data/latlong.csv')\n",
    "latlong = latlong.drop_duplicates().reset_index().drop(columns=['index'])"
   ]
  },
  {
   "cell_type": "code",
   "execution_count": 32,
   "metadata": {},
   "outputs": [
    {
     "data": {
      "text/plain": [
       "19422"
      ]
     },
     "execution_count": 32,
     "metadata": {},
     "output_type": "execute_result"
    }
   ],
   "source": [
    "latlong.size"
   ]
  },
  {
   "cell_type": "code",
   "execution_count": 33,
   "metadata": {},
   "outputs": [],
   "source": [
    "#get the frequency of each species in the latlong dataframe, if you want to see\n",
    "count = latlong['scientificName'].value_counts().rename_axis('scientificName').to_frame('frequency')\n",
    "# count.to_csv('ACL Data/count.csv')\n",
    "#make sure you disregard the sandflies with less than 5 points\n",
    "sandfly_names = count[count['frequency'] > 4].reset_index()['scientificName']\n",
    "latlong = latlong[latlong.scientificName.isin(sandfly_names)]"
   ]
  },
  {
   "cell_type": "code",
   "execution_count": 34,
   "metadata": {},
   "outputs": [
    {
     "data": {
      "text/plain": [
       "18717"
      ]
     },
     "execution_count": 34,
     "metadata": {},
     "output_type": "execute_result"
    }
   ],
   "source": [
    "latlong.size"
   ]
  },
  {
   "cell_type": "code",
   "execution_count": 10,
   "metadata": {},
   "outputs": [],
   "source": [
    "#tester point!\n",
    "point = ee.Geometry.Point(18.5672, -88.2569)"
   ]
  },
  {
   "cell_type": "markdown",
   "metadata": {},
   "source": [
    "# TEMPERATURE"
   ]
  },
  {
   "cell_type": "code",
   "execution_count": 62,
   "metadata": {
    "scrolled": true
   },
   "outputs": [],
   "source": [
    "#TEMPERATURE\n",
    "\n",
    "#read the latlong into a dataframe\n",
    "meantemp = latlong\n",
    "#load the gee image collection\n",
    "#filter it by the dates you want, and the data you are looking for\n",
    "temp = ee.ImageCollection(\"ECMWF/ERA5/MONTHLY\").filterDate('2009-01-01', '2019-01-01').select('mean_2m_air_temperature')\n",
    "\n",
    "#create a for loop that gets the mean temperature across the chosen time for each lat long point\n",
    "for x in range(len(meantemp)):\n",
    "    #create a point in the earth engine api: check the documentation if you have any issues with this\n",
    "    point = ee.Geometry.Point(latlong['decimalLongitude'][x], latlong['decimalLatitude'][x])\n",
    "    #get the mean temp and put it in the dataframe under the column \"mean monthly temp\"\n",
    "    meantemp.loc[x, \"temp\"] = temp.mean().sample(point, 1).first().get('mean_2m_air_temperature').getInfo()\n",
    "\n",
    "#convert to celcius\n",
    "meantemp['temp'] = meantemp['temp']-273.15\n"
   ]
  },
  {
   "cell_type": "code",
   "execution_count": 63,
   "metadata": {
    "scrolled": true
   },
   "outputs": [],
   "source": [
    "#print the first 30 rows of this dataframe to check if its all good\n",
    "meantemp.head()\n",
    "#take the average temperature for each species of sandfly\n",
    "latlongtemp = meantemp.groupby(\"scientificName\").mean()\n",
    "#export the csv to your folder(might have to directly put the folder location)\n",
    "latlongtemp.to_csv('final2/latlongtemp.csv')"
   ]
  },
  {
   "cell_type": "markdown",
   "metadata": {},
   "source": [
    "# PRECIPITATION"
   ]
  },
  {
   "cell_type": "code",
   "execution_count": 64,
   "metadata": {},
   "outputs": [],
   "source": [
    "#PRECIPITATION\n",
    "\n",
    "#load latlongs into a dataframe\n",
    "precip = latlong\n",
    "#filter it by the dates you want, and the data you are looking for\n",
    "#in this case we want the precipitation, so we .select(total_precipitation)\n",
    "prec = ee.ImageCollection(\"ECMWF/ERA5/MONTHLY\").filterDate('2009-01-01', '2019-01-01').select('total_precipitation')\n",
    "\n",
    "#create a for loop that gets the mean rainfall across the chosen time for each lat long point\n",
    "for x in range(len(precip)):\n",
    "    #create a point in the earth engine api: check the documentation if you have any issues with this\n",
    "    point = ee.Geometry.Point(latlong['decimalLongitude'][x], latlong['decimalLatitude'][x])\n",
    "    #get the mean rainfall and put it in the dataframe under the column \"rainfall\"\n",
    "    precip.loc[x, \"rainfall\"] = prec.mean().sample(point, 1).first().get('total_precipitation').getInfo()"
   ]
  },
  {
   "cell_type": "code",
   "execution_count": 65,
   "metadata": {
    "scrolled": true
   },
   "outputs": [
    {
     "data": {
      "text/html": [
       "<div>\n",
       "<style scoped>\n",
       "    .dataframe tbody tr th:only-of-type {\n",
       "        vertical-align: middle;\n",
       "    }\n",
       "\n",
       "    .dataframe tbody tr th {\n",
       "        vertical-align: top;\n",
       "    }\n",
       "\n",
       "    .dataframe thead th {\n",
       "        text-align: right;\n",
       "    }\n",
       "</style>\n",
       "<table border=\"1\" class=\"dataframe\">\n",
       "  <thead>\n",
       "    <tr style=\"text-align: right;\">\n",
       "      <th></th>\n",
       "      <th>decimalLatitude</th>\n",
       "      <th>decimalLongitude</th>\n",
       "      <th>temp</th>\n",
       "      <th>rainfall</th>\n",
       "    </tr>\n",
       "    <tr>\n",
       "      <th>scientificName</th>\n",
       "      <th></th>\n",
       "      <th></th>\n",
       "      <th></th>\n",
       "      <th></th>\n",
       "    </tr>\n",
       "  </thead>\n",
       "  <tbody>\n",
       "    <tr>\n",
       "      <th>Bichromomyia flaviscutellata</th>\n",
       "      <td>-6.897675</td>\n",
       "      <td>-54.948463</td>\n",
       "      <td>26.013084</td>\n",
       "      <td>170.290238</td>\n",
       "    </tr>\n",
       "    <tr>\n",
       "      <th>Bichromomyia inornata</th>\n",
       "      <td>-10.782800</td>\n",
       "      <td>-65.339400</td>\n",
       "      <td>26.093103</td>\n",
       "      <td>165.437773</td>\n",
       "    </tr>\n",
       "    <tr>\n",
       "      <th>Bichromomyia reducta</th>\n",
       "      <td>-11.964750</td>\n",
       "      <td>-69.162833</td>\n",
       "      <td>25.324915</td>\n",
       "      <td>174.914315</td>\n",
       "    </tr>\n",
       "    <tr>\n",
       "      <th>Brumptomyia avellari</th>\n",
       "      <td>-18.277705</td>\n",
       "      <td>-53.414560</td>\n",
       "      <td>24.529622</td>\n",
       "      <td>115.744536</td>\n",
       "    </tr>\n",
       "    <tr>\n",
       "      <th>Brumptomyia beaupertuyi</th>\n",
       "      <td>5.811850</td>\n",
       "      <td>-75.799750</td>\n",
       "      <td>20.326776</td>\n",
       "      <td>235.551447</td>\n",
       "    </tr>\n",
       "  </tbody>\n",
       "</table>\n",
       "</div>"
      ],
      "text/plain": [
       "                              decimalLatitude  decimalLongitude       temp  \\\n",
       "scientificName                                                               \n",
       "Bichromomyia flaviscutellata        -6.897675        -54.948463  26.013084   \n",
       "Bichromomyia inornata              -10.782800        -65.339400  26.093103   \n",
       "Bichromomyia reducta               -11.964750        -69.162833  25.324915   \n",
       "Brumptomyia avellari               -18.277705        -53.414560  24.529622   \n",
       "Brumptomyia beaupertuyi              5.811850        -75.799750  20.326776   \n",
       "\n",
       "                                rainfall  \n",
       "scientificName                            \n",
       "Bichromomyia flaviscutellata  170.290238  \n",
       "Bichromomyia inornata         165.437773  \n",
       "Bichromomyia reducta          174.914315  \n",
       "Brumptomyia avellari          115.744536  \n",
       "Brumptomyia beaupertuyi       235.551447  "
      ]
     },
     "execution_count": 65,
     "metadata": {},
     "output_type": "execute_result"
    }
   ],
   "source": [
    "#convert rainfall from meters to millimeters\n",
    "precip['rainfall'] = precip['rainfall']*1000\n",
    "#take the average temperature for each species of sandfly\n",
    "latlongprecip = precip.groupby(\"scientificName\").mean()\n",
    "#export the csv to your folder(might have to directly put the folder location)\n",
    "latlongprecip.to_csv('final2/latlongprecip.csv')\n",
    "#check\n",
    "latlongprecip.head()"
   ]
  },
  {
   "cell_type": "markdown",
   "metadata": {},
   "source": [
    "# WIND"
   ]
  },
  {
   "cell_type": "code",
   "execution_count": 66,
   "metadata": {},
   "outputs": [],
   "source": [
    "#WIND\n",
    "\n",
    "#filter it by the dates you want, and the data you are looking for\n",
    "#in this case we want the wind speed, so we .select(u_component_of_wind_10m) and .select(v_component_of_wind_10m)\n",
    "u_wind = ee.ImageCollection(\"ECMWF/ERA5/MONTHLY\").filterDate('2009-01-01', '2019-01-01').select('u_component_of_wind_10m')\n",
    "v_wind = ee.ImageCollection(\"ECMWF/ERA5/MONTHLY\").filterDate('2009-01-01', '2019-01-01').select('v_component_of_wind_10m')\n",
    "\n",
    "#load in latlong\n",
    "wind = latlong\n",
    "\n",
    "#create a for loop that gets the mean windspeed across the chosen time for each lat long point\n",
    "for x in range(len(latlong)):\n",
    "    #create a point in the earth engine api: check the documentation if you have any issues with this\n",
    "    point = ee.Geometry.Point(latlong['decimalLongitude'][x], latlong['decimalLatitude'][x])\n",
    "    #for simplicity, store the data in variables\n",
    "    u = u_wind.mean().sample(point, 1).first().get('u_component_of_wind_10m').getInfo()\n",
    "    v = v_wind.mean().sample(point, 1).first().get('v_component_of_wind_10m').getInfo()\n",
    "    #get the mean wind speed and put it in the dataframe under the column \"wind.speed\"\n",
    "    wind.loc[x, \"wind.speed.u\"] = u\n",
    "    wind.loc[x, \"wind.speed.v\"] = v\n",
    "\n",
    "#outside of the for loop, do the calculations for the total\n",
    "wind['wind.speed'] = (wind['wind.speed.u']**2 + wind[\"wind.speed.v\"]**2)**0.5"
   ]
  },
  {
   "cell_type": "code",
   "execution_count": 67,
   "metadata": {},
   "outputs": [],
   "source": [
    "#take the average temperature for each species of sandfly\n",
    "latlongwind = wind.groupby(\"scientificName\").mean()\n",
    "#export the csv to your folder(might have to directly put the folder location)\n",
    "latlongwind.to_csv('final2/latlongwind.csv')"
   ]
  },
  {
   "cell_type": "markdown",
   "metadata": {},
   "source": [
    "# TEMPERATURE RANGE"
   ]
  },
  {
   "cell_type": "code",
   "execution_count": 68,
   "metadata": {},
   "outputs": [],
   "source": [
    "#TEMPERATURE RANGE\n",
    "\n",
    "#load the latlong csv\n",
    "temprange = latlong\n",
    "#filter the google earth engine datasets by the dates you want, and the data you are looking for\n",
    "#in this case we want the max and min temps, so we select those\n",
    "mintemp = ee.ImageCollection(\"ECMWF/ERA5/MONTHLY\").filterDate('2009-01-01', '2019-01-01').select('minimum_2m_air_temperature')\n",
    "maxtemp = ee.ImageCollection(\"ECMWF/ERA5/MONTHLY\").filterDate('2009-01-01', '2019-01-01').select('maximum_2m_air_temperature')\n",
    "\n",
    "#MEAN MONTHLY TEMP MAX AND MIN\n",
    "#create a for loop that gets the mean value across the chosen time for each lat long point\n",
    "for x in range(len(temprange)):\n",
    "    #create a point in the earth engine api: check the documentation if you have any issues with this\n",
    "    point = ee.Geometry.Point(temprange['decimalLongitude'][x], temprange['decimalLatitude'][x])\n",
    "    #get the mean range and put it in the dataframe \n",
    "    temprange.loc[x, \"temp.rangemax\"] = maxtemp.mean().sample(point, 1).first().get('maximum_2m_air_temperature').getInfo()\n",
    "    temprange.loc[x, \"temp.rangemin\"] = mintemp.mean().sample(point, 1).first().get('minimum_2m_air_temperature').getInfo()"
   ]
  },
  {
   "cell_type": "code",
   "execution_count": 69,
   "metadata": {},
   "outputs": [
    {
     "data": {
      "text/html": [
       "<div>\n",
       "<style scoped>\n",
       "    .dataframe tbody tr th:only-of-type {\n",
       "        vertical-align: middle;\n",
       "    }\n",
       "\n",
       "    .dataframe tbody tr th {\n",
       "        vertical-align: top;\n",
       "    }\n",
       "\n",
       "    .dataframe thead th {\n",
       "        text-align: right;\n",
       "    }\n",
       "</style>\n",
       "<table border=\"1\" class=\"dataframe\">\n",
       "  <thead>\n",
       "    <tr style=\"text-align: right;\">\n",
       "      <th></th>\n",
       "      <th>scientificName</th>\n",
       "      <th>decimalLatitude</th>\n",
       "      <th>decimalLongitude</th>\n",
       "      <th>temp</th>\n",
       "      <th>rainfall</th>\n",
       "      <th>wind.speed.u</th>\n",
       "      <th>wind.speed.v</th>\n",
       "      <th>wind.speed</th>\n",
       "      <th>temp.rangemax</th>\n",
       "      <th>temp.rangemin</th>\n",
       "      <th>temp.range</th>\n",
       "    </tr>\n",
       "  </thead>\n",
       "  <tbody>\n",
       "    <tr>\n",
       "      <th>0</th>\n",
       "      <td>Warileya rotundipennis</td>\n",
       "      <td>5.813700</td>\n",
       "      <td>-75.822500</td>\n",
       "      <td>20.326776</td>\n",
       "      <td>235.551447</td>\n",
       "      <td>0.053705</td>\n",
       "      <td>0.036583</td>\n",
       "      <td>0.064981</td>\n",
       "      <td>301.598511</td>\n",
       "      <td>287.460388</td>\n",
       "      <td>14.138123</td>\n",
       "    </tr>\n",
       "    <tr>\n",
       "      <th>1</th>\n",
       "      <td>Warileya rotundipennis</td>\n",
       "      <td>5.810000</td>\n",
       "      <td>-75.820000</td>\n",
       "      <td>20.326776</td>\n",
       "      <td>235.551447</td>\n",
       "      <td>0.053705</td>\n",
       "      <td>0.036583</td>\n",
       "      <td>0.064981</td>\n",
       "      <td>301.598511</td>\n",
       "      <td>287.460388</td>\n",
       "      <td>14.138123</td>\n",
       "    </tr>\n",
       "    <tr>\n",
       "      <th>2</th>\n",
       "      <td>Brumptomyia avellari</td>\n",
       "      <td>-14.858692</td>\n",
       "      <td>-44.229808</td>\n",
       "      <td>25.611108</td>\n",
       "      <td>61.875254</td>\n",
       "      <td>-1.736552</td>\n",
       "      <td>0.320977</td>\n",
       "      <td>1.765967</td>\n",
       "      <td>307.954071</td>\n",
       "      <td>291.199158</td>\n",
       "      <td>16.754913</td>\n",
       "    </tr>\n",
       "    <tr>\n",
       "      <th>3</th>\n",
       "      <td>Brumptomyia avellari</td>\n",
       "      <td>-14.863325</td>\n",
       "      <td>-44.231039</td>\n",
       "      <td>25.611108</td>\n",
       "      <td>61.875254</td>\n",
       "      <td>-1.736552</td>\n",
       "      <td>0.320977</td>\n",
       "      <td>1.765967</td>\n",
       "      <td>307.954071</td>\n",
       "      <td>291.199158</td>\n",
       "      <td>16.754913</td>\n",
       "    </tr>\n",
       "    <tr>\n",
       "      <th>4</th>\n",
       "      <td>Brumptomyia avellari</td>\n",
       "      <td>-14.845041</td>\n",
       "      <td>-44.218608</td>\n",
       "      <td>25.611108</td>\n",
       "      <td>61.875254</td>\n",
       "      <td>-1.736552</td>\n",
       "      <td>0.320977</td>\n",
       "      <td>1.765967</td>\n",
       "      <td>307.954071</td>\n",
       "      <td>291.199158</td>\n",
       "      <td>16.754913</td>\n",
       "    </tr>\n",
       "  </tbody>\n",
       "</table>\n",
       "</div>"
      ],
      "text/plain": [
       "           scientificName  decimalLatitude  decimalLongitude       temp  \\\n",
       "0  Warileya rotundipennis         5.813700        -75.822500  20.326776   \n",
       "1  Warileya rotundipennis         5.810000        -75.820000  20.326776   \n",
       "2    Brumptomyia avellari       -14.858692        -44.229808  25.611108   \n",
       "3    Brumptomyia avellari       -14.863325        -44.231039  25.611108   \n",
       "4    Brumptomyia avellari       -14.845041        -44.218608  25.611108   \n",
       "\n",
       "     rainfall  wind.speed.u  wind.speed.v  wind.speed  temp.rangemax  \\\n",
       "0  235.551447      0.053705      0.036583    0.064981     301.598511   \n",
       "1  235.551447      0.053705      0.036583    0.064981     301.598511   \n",
       "2   61.875254     -1.736552      0.320977    1.765967     307.954071   \n",
       "3   61.875254     -1.736552      0.320977    1.765967     307.954071   \n",
       "4   61.875254     -1.736552      0.320977    1.765967     307.954071   \n",
       "\n",
       "   temp.rangemin  temp.range  \n",
       "0     287.460388   14.138123  \n",
       "1     287.460388   14.138123  \n",
       "2     291.199158   16.754913  \n",
       "3     291.199158   16.754913  \n",
       "4     291.199158   16.754913  "
      ]
     },
     "execution_count": 69,
     "metadata": {},
     "output_type": "execute_result"
    }
   ],
   "source": [
    "#get the range by doing max minus min and put it into a new column\n",
    "temprange['temp.range'] = temprange['temp.rangemax'] - temprange['temp.rangemin']\n",
    "#check it before exporting\n",
    "temprange.head()"
   ]
  },
  {
   "cell_type": "code",
   "execution_count": 70,
   "metadata": {},
   "outputs": [],
   "source": [
    "#take the average range for each species of sandfly\n",
    "latlongtemprange = temprange.groupby(\"scientificName\").mean()\n",
    "#export it to your computer\n",
    "latlongtemprange.to_csv('final2/latlongtemprange.csv')"
   ]
  },
  {
   "cell_type": "markdown",
   "metadata": {},
   "source": [
    "# ELEVATION"
   ]
  },
  {
   "cell_type": "code",
   "execution_count": 72,
   "metadata": {},
   "outputs": [],
   "source": [
    "#ELEVATION\n",
    "\n",
    "#create a dataframe that we will put elevation values into\n",
    "elevation = latlong\n",
    "#load the gee image collection for elevation\n",
    "#filter it by the dates you want, and the data you are looking for\n",
    "elev = ee.Image(\"NOAA/NGDC/ETOPO1\").select('bedrock')\n",
    "\n",
    "#create a for loop that gets the elevation across the chosen time for each lat long point\n",
    "for x in range(len(elevation)):\n",
    "    #create a point in the earth engine api: check the documentation if you have any issues with this\n",
    "    point = ee.Geometry.Point(elevation['decimalLongitude'][x], elevation['decimalLatitude'][x])\n",
    "    #get the elevation and put it in the dataframe under the column \"elevation\"\n",
    "    elevation.loc[x, \"elevation\"] = elev.sample(point, 1).first().get('bedrock').getInfo()\n"
   ]
  },
  {
   "cell_type": "code",
   "execution_count": 73,
   "metadata": {},
   "outputs": [],
   "source": [
    "#take the average range for each species of sandfly\n",
    "latlongelevation = elevation.groupby(\"scientificName\").mean()\n",
    "#export it to your computer\n",
    "latlongelevation.to_csv('final2/latlongelevation.csv')"
   ]
  },
  {
   "cell_type": "markdown",
   "metadata": {},
   "source": [
    "# FOREST LANDSCAPE INTEGRITY INDEX"
   ]
  },
  {
   "cell_type": "code",
   "execution_count": 74,
   "metadata": {
    "scrolled": true
   },
   "outputs": [],
   "source": [
    "#FOREST LANDSCAPE INTEGRITY INDEX\n",
    "\n",
    "#create a dataframe that we will put flii values into\n",
    "latlongflii = latlong\n",
    "#load the gee image collection for flii (READ BELOW)\n",
    "#for these images specifically, you need to upload them to google earth engine as an *asset*\n",
    "#when you go to https://code.earthengine.google.com/ and login to your account that has access\n",
    "#to google earth engine, and you see the code editor, go to the assets tab and upload your image/tiff files there\n",
    "#otherwise, you will not be able to access the data in the tiff files\n",
    "flii = ee.Image(\"users/ironicallycallidus/flii_earth\")\n",
    "\n",
    "#create a for loop that gets the flii for each lat long point\n",
    "for x in range(len(latlongflii)):\n",
    "    #create a point in the earth engine api: check the documentation if you have any issues with this\n",
    "    point = ee.Geometry.Point(latlongflii['decimalLongitude'][x], latlongflii['decimalLatitude'][x])\n",
    "    #get the flii and put it in the dataframe under the column \"flii\"\n",
    "    #here we use an if statement because for some latlongs, there doesn't exist a flii number, so we get the ones that exist\n",
    "    #this can get quite finnicky, so play around with the functions until it works, check the documentation as well\n",
    "    if flii.sample(point, 1).first().getInfo() != None:\n",
    "        latlongflii.loc[x, \"flii\"] = flii.sample(point, 1).first().get('b1').getInfo()\n"
   ]
  },
  {
   "cell_type": "code",
   "execution_count": 348,
   "metadata": {},
   "outputs": [
    {
     "data": {
      "text/plain": [
       "9684"
      ]
     },
     "execution_count": 348,
     "metadata": {},
     "output_type": "execute_result"
    }
   ],
   "source": [
    "#testing a specific random point for the flii index\n",
    "flii = ee.Image(\"users/ironicallycallidus/flii_earth\")\n",
    "point = ee.Geometry.Point(18.5672, -8.2569)\n",
    "flii.sample(point, 1).first().get('b1').getInfo()"
   ]
  },
  {
   "cell_type": "code",
   "execution_count": 75,
   "metadata": {},
   "outputs": [],
   "source": [
    "#take the average range for each species of sandfly\n",
    "latlongflii1 = latlongflii.groupby(\"scientificName\").mean()\n",
    "\n",
    "#this makes sure all negative values are rewritten as 0s\n",
    "latlongflii1 = latlongflii1['flii'].clip(lower=0)\n",
    "#export it to your computer\n",
    "latlongflii1.to_csv('final2/latlongflii.csv')"
   ]
  },
  {
   "cell_type": "markdown",
   "metadata": {},
   "source": [
    "# TEMPERATURE VARIANCE"
   ]
  },
  {
   "cell_type": "code",
   "execution_count": 20,
   "metadata": {
    "scrolled": true
   },
   "outputs": [],
   "source": [
    "import numpy as np\n",
    "#create empty \n",
    "latlong = latlong\n",
    "for x in range(len(latlong)):\n",
    "    #create empty list\n",
    "    variance = []\n",
    "    point = ee.Geometry.Point(latlong['decimalLongitude'][x], latlong['decimalLatitude'][x])\n",
    "    \n",
    "    for j in range(10):\n",
    "        #get 10 columns for the years \n",
    "        #get variance for the values in each column\n",
    "        #get mean monthly temp for months in a year\n",
    "        era = ee.ImageCollection(\"ECMWF/ERA5/MONTHLY\").filterDate(str(j + 2009) + '-01-01', str(j + 2010) + '-01-01').select('mean_2m_air_temperature')\n",
    "        #get the variance of each 10 years\n",
    "        erareduced = era.reduce(ee.Reducer.variance())\n",
    "        #append each of the 10 variances to a list\n",
    "        variance.append(erareduced.sample(point, 1).first().get('mean_2m_air_temperature_variance').getInfo())\n",
    "    #take mean of the variances and put it into the latlong csv\n",
    "    latlong.loc[x, \"temp.var\"] = np.mean(variance)\n"
   ]
  },
  {
   "cell_type": "code",
   "execution_count": 6,
   "metadata": {
    "scrolled": true
   },
   "outputs": [
    {
     "data": {
      "text/html": [
       "<div>\n",
       "<style scoped>\n",
       "    .dataframe tbody tr th:only-of-type {\n",
       "        vertical-align: middle;\n",
       "    }\n",
       "\n",
       "    .dataframe tbody tr th {\n",
       "        vertical-align: top;\n",
       "    }\n",
       "\n",
       "    .dataframe thead th {\n",
       "        text-align: right;\n",
       "    }\n",
       "</style>\n",
       "<table border=\"1\" class=\"dataframe\">\n",
       "  <thead>\n",
       "    <tr style=\"text-align: right;\">\n",
       "      <th></th>\n",
       "      <th>scientificName</th>\n",
       "      <th>decimalLatitude</th>\n",
       "      <th>decimalLongitude</th>\n",
       "      <th>temp.var</th>\n",
       "    </tr>\n",
       "  </thead>\n",
       "  <tbody>\n",
       "    <tr>\n",
       "      <th>0</th>\n",
       "      <td>Warileya rotundipennis</td>\n",
       "      <td>5.813700</td>\n",
       "      <td>-75.822500</td>\n",
       "      <td>0.575591</td>\n",
       "    </tr>\n",
       "    <tr>\n",
       "      <th>1</th>\n",
       "      <td>Warileya rotundipennis</td>\n",
       "      <td>5.810000</td>\n",
       "      <td>-75.820000</td>\n",
       "      <td>0.575591</td>\n",
       "    </tr>\n",
       "    <tr>\n",
       "      <th>2</th>\n",
       "      <td>Brumptomyia avellari</td>\n",
       "      <td>-14.858692</td>\n",
       "      <td>-44.229808</td>\n",
       "      <td>1.986265</td>\n",
       "    </tr>\n",
       "    <tr>\n",
       "      <th>3</th>\n",
       "      <td>Brumptomyia avellari</td>\n",
       "      <td>-14.863325</td>\n",
       "      <td>-44.231039</td>\n",
       "      <td>1.986265</td>\n",
       "    </tr>\n",
       "    <tr>\n",
       "      <th>4</th>\n",
       "      <td>Brumptomyia avellari</td>\n",
       "      <td>-14.845041</td>\n",
       "      <td>-44.218608</td>\n",
       "      <td>1.986265</td>\n",
       "    </tr>\n",
       "    <tr>\n",
       "      <th>...</th>\n",
       "      <td>...</td>\n",
       "      <td>...</td>\n",
       "      <td>...</td>\n",
       "      <td>...</td>\n",
       "    </tr>\n",
       "    <tr>\n",
       "      <th>6469</th>\n",
       "      <td>Micropygomyia (Sauromyia) trinidadensis</td>\n",
       "      <td>-0.084444</td>\n",
       "      <td>-79.278028</td>\n",
       "      <td>NaN</td>\n",
       "    </tr>\n",
       "    <tr>\n",
       "      <th>6470</th>\n",
       "      <td>Lutzomyia (Helcocyrtomyia) hartmanni</td>\n",
       "      <td>-0.084444</td>\n",
       "      <td>-79.278028</td>\n",
       "      <td>NaN</td>\n",
       "    </tr>\n",
       "    <tr>\n",
       "      <th>6471</th>\n",
       "      <td>Pressatia triacantha</td>\n",
       "      <td>-0.084444</td>\n",
       "      <td>-79.278028</td>\n",
       "      <td>NaN</td>\n",
       "    </tr>\n",
       "    <tr>\n",
       "      <th>6472</th>\n",
       "      <td>Migonemyia (Migonemyia) migonei</td>\n",
       "      <td>-31.393889</td>\n",
       "      <td>-64.076667</td>\n",
       "      <td>NaN</td>\n",
       "    </tr>\n",
       "    <tr>\n",
       "      <th>6473</th>\n",
       "      <td>Evandromyia (Barrettomyia) cortelezzii</td>\n",
       "      <td>-31.393889</td>\n",
       "      <td>-64.076667</td>\n",
       "      <td>NaN</td>\n",
       "    </tr>\n",
       "  </tbody>\n",
       "</table>\n",
       "<p>6474 rows × 4 columns</p>\n",
       "</div>"
      ],
      "text/plain": [
       "                               scientificName  decimalLatitude  \\\n",
       "0                      Warileya rotundipennis         5.813700   \n",
       "1                      Warileya rotundipennis         5.810000   \n",
       "2                        Brumptomyia avellari       -14.858692   \n",
       "3                        Brumptomyia avellari       -14.863325   \n",
       "4                        Brumptomyia avellari       -14.845041   \n",
       "...                                       ...              ...   \n",
       "6469  Micropygomyia (Sauromyia) trinidadensis        -0.084444   \n",
       "6470     Lutzomyia (Helcocyrtomyia) hartmanni        -0.084444   \n",
       "6471                     Pressatia triacantha        -0.084444   \n",
       "6472          Migonemyia (Migonemyia) migonei       -31.393889   \n",
       "6473   Evandromyia (Barrettomyia) cortelezzii       -31.393889   \n",
       "\n",
       "      decimalLongitude  temp.var  \n",
       "0           -75.822500  0.575591  \n",
       "1           -75.820000  0.575591  \n",
       "2           -44.229808  1.986265  \n",
       "3           -44.231039  1.986265  \n",
       "4           -44.218608  1.986265  \n",
       "...                ...       ...  \n",
       "6469        -79.278028       NaN  \n",
       "6470        -79.278028       NaN  \n",
       "6471        -79.278028       NaN  \n",
       "6472        -64.076667       NaN  \n",
       "6473        -64.076667       NaN  \n",
       "\n",
       "[6474 rows x 4 columns]"
      ]
     },
     "execution_count": 6,
     "metadata": {},
     "output_type": "execute_result"
    }
   ],
   "source": [
    "#check\n",
    "latlong"
   ]
  },
  {
   "cell_type": "code",
   "execution_count": 21,
   "metadata": {},
   "outputs": [],
   "source": [
    "#take the average temperature for each species of sandfly\n",
    "latlongtempvar = latlong.groupby(\"scientificName\").mean()\n",
    "#export the csv to your folder(might have to directly put the folder location)\n",
    "latlongtempvar.to_csv('final2/latlongtempvar.csv')"
   ]
  },
  {
   "cell_type": "markdown",
   "metadata": {},
   "source": [
    "# CANOPY HEIGHT"
   ]
  },
  {
   "cell_type": "code",
   "execution_count": 8,
   "metadata": {},
   "outputs": [],
   "source": [
    "#CANOPY HEIGHT\n",
    "latlong = pd.read_csv('ACL data/latlong.csv')\n",
    "latlong = latlong.drop_duplicates().reset_index().drop(columns=['index'])\n",
    "canopy = ee.Image(\"NASA/JPL/global_forest_canopy_height_2005\")\n",
    "\n",
    "#create a for loop that gets the data for each lat long point\n",
    "for x in range(len(latlong)):\n",
    "    #create a point in the earth engine api: check the documentation if you have any issues with this\n",
    "    point = ee.Geometry.Point(latlong['decimalLongitude'][x], latlong['decimalLatitude'][x])\n",
    "    buffer = point.buffer(distance = 1000)\n",
    "    #put value for each latlong in the latlong dataframe\n",
    "    latlong.loc[x, \"canopy\"] = canopy.sample(buffer).first().get('1').getInfo()"
   ]
  },
  {
   "cell_type": "code",
   "execution_count": 9,
   "metadata": {
    "scrolled": true
   },
   "outputs": [],
   "source": [
    "#check\n",
    "latlong.tail(40)\n",
    "#take the average for each species of sandfly\n",
    "latlongcanopy = latlong.groupby(\"scientificName\").mean()\n",
    "#export the csv to your folder(might have to directly put the folder location)\n",
    "latlongcanopy.to_csv('final2/latlongcanopy.csv')"
   ]
  },
  {
   "cell_type": "markdown",
   "metadata": {},
   "source": [
    "# GLOBAL HUMAN MODIFICATION"
   ]
  },
  {
   "cell_type": "code",
   "execution_count": 93,
   "metadata": {},
   "outputs": [
    {
     "name": "stdout",
     "output_type": "stream",
     "text": [
      "{'type': 'Feature', 'geometry': None, 'id': '0', 'properties': {'gHM': 0.5898281335830688}}\n"
     ]
    }
   ],
   "source": [
    "ghm = ee.ImageCollection('CSP/HM/GlobalHumanModification').select('gHM')\n",
    "point = ee.Geometry.Point(-5.35782111, 8.874290794)\n",
    "\n",
    "buffer = point.buffer(distance= 1000)\n",
    "print(ghm.mean().sample(buffer, 1000).first().getInfo())"
   ]
  },
  {
   "cell_type": "code",
   "execution_count": 94,
   "metadata": {
    "scrolled": true
   },
   "outputs": [],
   "source": [
    "#GHM\n",
    "latlong = pd.read_csv('ACL data/latlong.csv')\n",
    "latlong = latlong.drop_duplicates().reset_index().drop(columns=['index'])\n",
    "\n",
    "ghm = ee.ImageCollection('CSP/HM/GlobalHumanModification').select('gHM')\n",
    "\n",
    "#create a for loop that gets the data for each lat long point\n",
    "for x in range(len(latlong)):\n",
    "    #create a point in the earth engine api: check the documentation if you have any issues with this\n",
    "    point = ee.Geometry.Point(latlong['decimalLongitude'][x], latlong['decimalLatitude'][x])\n",
    "    buffer = point.buffer(distance= 1000)\n",
    "    #put value for each latlong in the latlong dataframe\n",
    "    if ghm.mean().sample(buffer, 1000).first().getInfo() != None:\n",
    "        latlong.loc[x, \"ghm\"] = ghm.mean().sample(buffer, 1000).first().get('gHM').getInfo()\n"
   ]
  },
  {
   "cell_type": "code",
   "execution_count": 95,
   "metadata": {},
   "outputs": [],
   "source": [
    "#take the average for each species of sandfly\n",
    "latlongghm = latlong.groupby(\"scientificName\").mean()\n",
    "#export the csv to your folder(might have to directly put the folder location)\n",
    "latlongghm.to_csv('final2/latlongghm.csv')"
   ]
  },
  {
   "cell_type": "markdown",
   "metadata": {},
   "source": [
    "# TREE COVER"
   ]
  },
  {
   "cell_type": "code",
   "execution_count": 3,
   "metadata": {
    "scrolled": true
   },
   "outputs": [],
   "source": [
    "#TREE COVER\n",
    "latlong = pd.read_csv('ACL data/latlong.csv')\n",
    "latlong = latlong.drop_duplicates().reset_index().drop(columns=['index'])\n",
    "coper = ee.ImageCollection(\"COPERNICUS/Landcover/100m/Proba-V-C3/Global\").select('tree-coverfraction')\n",
    "\n",
    "\n",
    "#create a for loop that gets the data for each lat long point\n",
    "for x in range(len(latlong)):\n",
    "    #create a point in the earth engine api: check the documentation if you have any issues with this\n",
    "    point = ee.Geometry.Point(latlong['decimalLongitude'][x], latlong['decimalLatitude'][x])\n",
    "    buffer = point.buffer(distance= 1000)\n",
    "    #put value for each latlong in the latlong dataframe\n",
    "    if coper.mean().sample(buffer, 100).first().getInfo() != None:\n",
    "        latlong.loc[x, \"tree.cover\"] = coper.mean().sample(buffer, 100).first().get('tree-coverfraction').getInfo()"
   ]
  },
  {
   "cell_type": "code",
   "execution_count": 4,
   "metadata": {
    "scrolled": false
   },
   "outputs": [],
   "source": [
    "#take the average for each species of sandfly\n",
    "latlongtreecover = latlong.groupby(\"scientificName\").mean()\n",
    "#export the csv to your folder(might have to directly put the folder location)\n",
    "latlongtreecover.to_csv('final2/latlongtreecover.csv')"
   ]
  },
  {
   "cell_type": "markdown",
   "metadata": {},
   "source": [
    "# CROPS COVER"
   ]
  },
  {
   "cell_type": "code",
   "execution_count": 5,
   "metadata": {},
   "outputs": [],
   "source": [
    "#CROPS COVER\n",
    "latlong = pd.read_csv('ACL data/latlong.csv')\n",
    "latlong = latlong.drop_duplicates().reset_index().drop(columns=['index'])\n",
    "coper = ee.ImageCollection(\"COPERNICUS/Landcover/100m/Proba-V-C3/Global\").select('crops-coverfraction')\n",
    "\n",
    "#create a for loop that gets the data for each lat long point\n",
    "for x in range(len(latlong)):\n",
    "    #create a point in the earth engine api: check the documentation if you have any issues with this\n",
    "    point = ee.Geometry.Point(latlong['decimalLongitude'][x], latlong['decimalLatitude'][x])\n",
    "    buffer = point.buffer(distance= 1000)\n",
    "    #put value for each latlong in the latlong dataframe\n",
    "    if coper.mean().sample(buffer, 100).first().getInfo() != None:\n",
    "        latlong.loc[x, \"crops.cover\"] = coper.mean().sample(buffer, 100).first().get('crops-coverfraction').getInfo()"
   ]
  },
  {
   "cell_type": "code",
   "execution_count": 6,
   "metadata": {},
   "outputs": [],
   "source": [
    "#take the average for each species of sandfly\n",
    "latlongcropscover = latlong.groupby(\"scientificName\").mean()\n",
    "#export the csv to your folder(might have to directly put the folder location)\n",
    "latlongcropscover.to_csv('final2/latlongcropscover.csv')"
   ]
  },
  {
   "cell_type": "markdown",
   "metadata": {},
   "source": [
    "# GRASS COVER"
   ]
  },
  {
   "cell_type": "code",
   "execution_count": 7,
   "metadata": {},
   "outputs": [],
   "source": [
    "#GRASS COVER\n",
    "latlong = pd.read_csv('ACL data/latlong.csv')\n",
    "latlong = latlong.drop_duplicates().reset_index().drop(columns=['index'])\n",
    "coper = ee.ImageCollection(\"COPERNICUS/Landcover/100m/Proba-V-C3/Global\").select('grass-coverfraction')\n",
    "\n",
    "#create a for loop that gets the data for each lat long point\n",
    "for x in range(len(latlong)):\n",
    "    #create a point in the earth engine api: check the documentation if you have any issues with this\n",
    "    point = ee.Geometry.Point(latlong['decimalLongitude'][x], latlong['decimalLatitude'][x])\n",
    "    buffer = point.buffer(distance= 1000)\n",
    "    #put value for each latlong in the latlong dataframe\n",
    "    if coper.mean().sample(buffer, 100).first().getInfo() != None:\n",
    "        latlong.loc[x, \"grass.cover\"] = coper.mean().sample(buffer, 100).first().get('grass-coverfraction').getInfo()"
   ]
  },
  {
   "cell_type": "code",
   "execution_count": 8,
   "metadata": {},
   "outputs": [],
   "source": [
    "#take the average for each species of sandfly\n",
    "latlonggrasscover = latlong.groupby(\"scientificName\").mean()\n",
    "#export the csv to your folder(might have to directly put the folder location)\n",
    "latlonggrasscover.to_csv('final2/latlonggrasscover.csv')"
   ]
  },
  {
   "cell_type": "markdown",
   "metadata": {},
   "source": [
    "# SHRUB COVER"
   ]
  },
  {
   "cell_type": "code",
   "execution_count": 9,
   "metadata": {},
   "outputs": [],
   "source": [
    "#SHRUB COVER\n",
    "latlong = pd.read_csv('ACL data/latlong.csv')\n",
    "latlong = latlong.drop_duplicates().reset_index().drop(columns=['index'])\n",
    "coper = ee.ImageCollection(\"COPERNICUS/Landcover/100m/Proba-V-C3/Global\").select('shrub-coverfraction')\n",
    "\n",
    "#create a for loop that gets the data for each lat long point\n",
    "for x in range(len(latlong)):\n",
    "    #create a point in the earth engine api: check the documentation if you have any issues with this\n",
    "    point = ee.Geometry.Point(latlong['decimalLongitude'][x], latlong['decimalLatitude'][x])\n",
    "    buffer = point.buffer(distance= 1000)\n",
    "    #put value for each latlong in the latlong dataframe\n",
    "    if coper.mean().sample(buffer, 100).first().getInfo() != None:\n",
    "        latlong.loc[x, \"shrub.cover\"] = coper.mean().sample(buffer, 100).first().get('shrub-coverfraction').getInfo()"
   ]
  },
  {
   "cell_type": "code",
   "execution_count": 10,
   "metadata": {},
   "outputs": [],
   "source": [
    "#take the average for each species of sandfly\n",
    "latlongshrubcover = latlong.groupby(\"scientificName\").mean()\n",
    "#export the csv to your folder(might have to directly put the folder location)\n",
    "latlongshrubcover.to_csv('final2/latlongshrubcover.csv')"
   ]
  },
  {
   "cell_type": "markdown",
   "metadata": {},
   "source": [
    "# URBAN COVER"
   ]
  },
  {
   "cell_type": "code",
   "execution_count": 11,
   "metadata": {},
   "outputs": [],
   "source": [
    "#URBAN COVER\n",
    "latlong = pd.read_csv('ACL data/latlong.csv')\n",
    "latlong = latlong.drop_duplicates().reset_index().drop(columns=['index'])\n",
    "coper = ee.ImageCollection(\"COPERNICUS/Landcover/100m/Proba-V-C3/Global\").select('urban-coverfraction')\n",
    "\n",
    "#create a for loop that gets the data for each lat long point\n",
    "for x in range(len(latlong)):\n",
    "    #create a point in the earth engine api: check the documentation if you have any issues with this\n",
    "    point = ee.Geometry.Point(latlong['decimalLongitude'][x], latlong['decimalLatitude'][x])\n",
    "    buffer = point.buffer(distance= 1000)\n",
    "    #put value for each latlong in the latlong dataframe\n",
    "    if coper.mean().sample(buffer, 100).first().getInfo() != None:\n",
    "        latlong.loc[x, \"urban.cover\"] = coper.mean().sample(buffer, 100).first().get('urban-coverfraction').getInfo()"
   ]
  },
  {
   "cell_type": "code",
   "execution_count": 12,
   "metadata": {
    "scrolled": false
   },
   "outputs": [],
   "source": [
    "#take the average for each species of sandfly\n",
    "latlongurbancover = latlong.groupby(\"scientificName\").mean()\n",
    "#export the csv to your folder(might have to directly put the folder location)\n",
    "latlongurbancover.to_csv('final2/latlongurbancover.csv')"
   ]
  },
  {
   "cell_type": "markdown",
   "metadata": {},
   "source": [
    "# WATER PERMANENET COVER"
   ]
  },
  {
   "cell_type": "code",
   "execution_count": 13,
   "metadata": {},
   "outputs": [],
   "source": [
    "#WATER PERMANENT COVER\n",
    "latlong = pd.read_csv('ACL data/latlong.csv')\n",
    "latlong = latlong.drop_duplicates().reset_index().drop(columns=['index'])\n",
    "coper = ee.ImageCollection(\"COPERNICUS/Landcover/100m/Proba-V-C3/Global\").select('water-permanent-coverfraction')\n",
    "\n",
    "#create a for loop that gets the data for each lat long point\n",
    "for x in range(len(latlong)):\n",
    "    #create a point in the earth engine api: check the documentation if you have any issues with this\n",
    "    point = ee.Geometry.Point(latlong['decimalLongitude'][x], latlong['decimalLatitude'][x])\n",
    "    buffer = point.buffer(distance= 1000)\n",
    "    #put value for each latlong in the latlong dataframe\n",
    "    if coper.mean().sample(buffer, 100).first().getInfo() != None:\n",
    "        latlong.loc[x, \"water.permanent.cover\"] = coper.mean().sample(buffer, 100).first().get('water-permanent-coverfraction').getInfo()"
   ]
  },
  {
   "cell_type": "code",
   "execution_count": 14,
   "metadata": {
    "scrolled": true
   },
   "outputs": [],
   "source": [
    "#take the average for each species of sandfly\n",
    "latlongwaterpermcover = latlong.groupby(\"scientificName\").mean()\n",
    "#export the csv to your folder(might have to directly put the folder location)\n",
    "latlongwaterpermcover.to_csv('final2/latlongwaterpermcover.csv')"
   ]
  },
  {
   "cell_type": "markdown",
   "metadata": {},
   "source": [
    "# WATER SEASONAL COVER"
   ]
  },
  {
   "cell_type": "code",
   "execution_count": 15,
   "metadata": {},
   "outputs": [],
   "source": [
    "#WATER SEASONAL COVER\n",
    "latlong = pd.read_csv('ACL data/latlong.csv')\n",
    "latlong = latlong.drop_duplicates().reset_index().drop(columns=['index'])\n",
    "coper = ee.ImageCollection(\"COPERNICUS/Landcover/100m/Proba-V-C3/Global\").select('water-seasonal-coverfraction')\n",
    "\n",
    "#create a for loop that gets the data for each lat long point\n",
    "for x in range(len(latlong)):\n",
    "    #create a point in the earth engine api: check the documentation if you have any issues with this\n",
    "    point = ee.Geometry.Point(latlong['decimalLongitude'][x], latlong['decimalLatitude'][x])\n",
    "    buffer = point.buffer(distance= 1000)\n",
    "    #put value for each latlong in the latlong dataframe\n",
    "    if coper.mean().sample(buffer, 100).first().getInfo() != None:\n",
    "        latlong.loc[x, \"water.seasonal.cover\"] = coper.mean().sample(buffer, 100).first().get('water-seasonal-coverfraction').getInfo()"
   ]
  },
  {
   "cell_type": "code",
   "execution_count": 16,
   "metadata": {},
   "outputs": [],
   "source": [
    "#take the average for each species of sandfly\n",
    "latlongwaterseascover = latlong.groupby(\"scientificName\").mean()\n",
    "#export the csv to your folder(might have to directly put the folder location)\n",
    "latlongwaterseascover.to_csv('final2/latlongwaterseascover.csv')"
   ]
  },
  {
   "cell_type": "markdown",
   "metadata": {},
   "source": [
    "# ENHANCED VEGETATION INDEX"
   ]
  },
  {
   "cell_type": "code",
   "execution_count": 18,
   "metadata": {},
   "outputs": [],
   "source": [
    "#WATER SEASONAL COVER\n",
    "latlong = pd.read_csv('ACL data/latlong.csv')\n",
    "latlong = latlong.drop_duplicates().reset_index().drop(columns=['index'])\n",
    "vegetation = ee.ImageCollection(\"MODIS/006/MOD13A2\").filterDate('2009-01-01', '2019-01-01').select('EVI')\n",
    "\n",
    "#create a for loop that gets the data for each lat long point\n",
    "for x in range(len(latlong)):\n",
    "    #create a point in the earth engine api: check the documentation if you have any issues with this\n",
    "    point = ee.Geometry.Point(latlong['decimalLongitude'][x], latlong['decimalLatitude'][x])\n",
    "    buffer = point.buffer(distance= 1000)\n",
    "    #put value for each latlong in the latlong dataframe\n",
    "    if vegetation.mean().sample(buffer, 100).first().getInfo() != None:\n",
    "        latlong.loc[x, \"evi\"] = vegetation.mean().sample(point, 1).first().get('EVI').getInfo()"
   ]
  },
  {
   "cell_type": "code",
   "execution_count": 19,
   "metadata": {},
   "outputs": [],
   "source": [
    "#take the average for each species of sandfly\n",
    "latlongevi = latlong.groupby(\"scientificName\").mean()\n",
    "#export the csv to your folder(might have to directly put the folder location)\n",
    "latlongevi.to_csv('final2/latlongevi.csv')"
   ]
  },
  {
   "cell_type": "markdown",
   "metadata": {},
   "source": [
    "# ECOREGIONS AND BIOMES"
   ]
  },
  {
   "cell_type": "code",
   "execution_count": 22,
   "metadata": {
    "scrolled": true
   },
   "outputs": [],
   "source": [
    "#ECOREGIONS AND BIOMES\n",
    "latlong = pd.read_csv('ACL data/latlong.csv')\n",
    "latlong = latlong.drop_duplicates().reset_index().drop(columns=['index'])\n",
    "\n",
    "#read in the feature collection of ecoregions\n",
    "ecoregions = ee.FeatureCollection(\"RESOLVE/ECOREGIONS/2017\")\n",
    "\n",
    "#convert the ecoregions feature collection into an image that contains the eco id numbers\n",
    "ecoimage = ee.Image().paint(ecoregions, 'ECO_ID')\n",
    "bioimage = ee.Image().paint(ecoregions, 'BIOME_NUM')\n",
    "\n",
    "#tester point, can ignore\n",
    "point = ee.Geometry.Point(-88.2569, 18.5672)\n",
    "\n",
    "\n",
    "#create a for loop that gets the eco id for each lat long point\n",
    "for x in range(len(latlong)):\n",
    "    #create a point in the earth engine api: check the documentation if you have any issues with this\n",
    "    point = ee.Geometry.Point(latlong['decimalLongitude'][x], latlong['decimalLatitude'][x])\n",
    "    #get the eco id and put it in the dataframe under the column \"eco id\"\n",
    "    if ecoimage.sample(point, 1).first().getInfo() != None:\n",
    "        latlong.loc[x, \"eco id\"] = ecoimage.sample(point, 1).first().get('constant').getInfo()\n",
    "    #get the bio me id and put it in the dataframe under the column \"bio id\"\n",
    "    if bioimage.sample(point, 1).first().getInfo() != None:\n",
    "        latlong.loc[x, \"bio id\"] = bioimage.sample(point, 1).first().get('constant').getInfo()\n",
    "\n"
   ]
  },
  {
   "cell_type": "code",
   "execution_count": null,
   "metadata": {},
   "outputs": [],
   "source": [
    "#specific code for getting the biome number from the feature collection\n",
    "#not necessary to run, as it's incorporated into the previous cell's for loop\n",
    "ecoimage = ee.Image().paint(ecoregions, 'BIOME_NUM')\n",
    "for x in range(len(latlong)):\n",
    "    #create a point in the earth engine api: check the documentation if you have any issues with this\n",
    "    point = ee.Geometry.Point(latlong['decimalLongitude'][x], latlong['decimalLatitude'][x])\n",
    "    #get the eco id and put it in the dataframe under the column \"eco id\"\n",
    "    if ecoimage.sample(point, 1).first().getInfo() != None:\n",
    "        latlong.loc[x, \"bio id\"] = ecoimage.sample(point, 1).first().get('constant').getInfo()\n"
   ]
  },
  {
   "cell_type": "code",
   "execution_count": 23,
   "metadata": {
    "scrolled": true
   },
   "outputs": [],
   "source": [
    "#fill in which biomes and ecoregions correspond to which eco and bio id\n",
    "index = pd.read_csv('biome_eco_index.csv')\n",
    "#match them for each lat long point\n",
    "for i in range(len(latlong)):\n",
    "    for j in range(len(index)):\n",
    "        if latlong.loc[i, 'eco id'] == index.loc[j, 'ecoid']:\n",
    "            latlong.loc[i, 'eco name'] = index.loc[j, 'econame']\n",
    "        if latlong.loc[i, 'bio id'] == index.loc[j, 'bioid']:\n",
    "            latlong.loc[i, 'biome name'] = index.loc[j, 'bioname']"
   ]
  },
  {
   "cell_type": "code",
   "execution_count": 24,
   "metadata": {
    "scrolled": true
   },
   "outputs": [],
   "source": [
    "#look through the first 60 rows to check\n",
    "latlong.head(60)\n",
    "#save as a dataframe\n",
    "latlong.to_csv('final2/latlongbioeco.csv')"
   ]
  },
  {
   "cell_type": "markdown",
   "metadata": {},
   "source": [
    "# FINAL"
   ]
  },
  {
   "cell_type": "code",
   "execution_count": 52,
   "metadata": {
    "scrolled": false
   },
   "outputs": [],
   "source": [
    "#BIOME BINARY FILL IN\n",
    "#load in traits and bioeco data\n",
    "traits = pd.read_csv('final2/vector traits.csv')\n",
    "bioeco = pd.read_csv('final2/latlongbioeco.csv')\n",
    "#list of all sandflies\n",
    "species = traits['species']\n",
    "#reset the index for easier indexing in the for loop\n",
    "traits = traits.set_index('species')\n",
    "#get all the unique biome names and filter out the nans\n",
    "biome_unique = bioeco['biome name'].unique()\n",
    "biome_unique = [biome for biome in biome_unique if pd.notnull(biome)]\n",
    "#get the list of what the biome columns are in the trait csv, these are sorted according to the order in biome_unique\n",
    "vector_biome_title = ['b.tsmbf', 'b.tsdbf', 'b.tsgss', 'b.mangrove', 'b.fgs', 'b.dxs', 'b.tscf', 'b.tgss', 'b.tcforest', 'b.tbmforest', 'b.montane']\n",
    "#list of sandfly names that have biome data\n",
    "names_unique = bioeco['scientificName'].unique()\n",
    "\n",
    "#fill the cells with 0s for all names in names_unqiue\n",
    "for x in range(len(names_unique)):\n",
    "    for y in range(len(traits)):\n",
    "        if names_unique[x] == species[y]:\n",
    "            traits.loc[species[y], vector_biome_title] = 0\n",
    "\n",
    "#fill in the cells with 1s where that biome ocurrs for the sandfly\n",
    "for i in range(len(bioeco)):\n",
    "    for j in range(len(biome_unique)):\n",
    "        if bioeco.loc[i, 'biome name'] == biome_unique[j]:\n",
    "            traits.loc[bioeco.loc[i, 'scientificName'], vector_biome_title[j]] = 1\n",
    "            \n",
    "#one weird outlier that I fill in by hand\n",
    "traits.loc['Pintomyia (Pifanomyia) suapiensis', vector_biome_title] = 0\n",
    "traits.loc['Pintomyia (Pifanomyia) suapiensis', 'b.tsmbf'] = 1\n",
    "traits = traits.drop('Lutzomyia suapiensis')\n",
    "\n",
    "#export to csv\n",
    "traits.to_csv('final2/vector traits with biome.csv')            "
   ]
  },
  {
   "cell_type": "code",
   "execution_count": 96,
   "metadata": {},
   "outputs": [],
   "source": [
    "#PUT THEM ALL TOGETHER\n",
    "#concatenate the traits from the csvs into one file with all the traits\n",
    "\n",
    "#load the csvs\n",
    "temp = pd.read_csv('final2/latlongtemp.csv')\n",
    "temprange = pd.read_csv('final2/latlongtemprange.csv')\n",
    "elevation = pd.read_csv('final2/latlongelevation.csv')\n",
    "rainfall = pd.read_csv('final2/latlongprecip.csv')\n",
    "wind = pd.read_csv('final2/latlongwind.csv')\n",
    "flii = pd.read_csv('final2/latlongflii.csv')\n",
    "tempvar = pd.read_csv('final2/latlongtempvar.csv')\n",
    "canopy = pd.read_csv('final2/latlongcanopy.csv')\n",
    "ghm = pd.read_csv('final2/latlongghm.csv')\n",
    "treecover = pd.read_csv('final2/latlongtreecover.csv')\n",
    "cropscover = pd.read_csv('final2/latlongcropscover.csv')\n",
    "grasscover = pd.read_csv('final2/latlonggrasscover.csv')\n",
    "shrubcover = pd.read_csv('final2/latlongshrubcover.csv')\n",
    "urbancover = pd.read_csv('final2/latlongurbancover.csv')\n",
    "waterpermcover = pd.read_csv('final2/latlongwaterpermcover.csv')\n",
    "waterseascover = pd.read_csv('final2/latlongwaterseascover.csv')\n",
    "evi = pd.read_csv('final2/latlongevi.csv')\n",
    "\n",
    "\n",
    "#read the csv with the biome variable filled in\n",
    "traits = pd.read_csv('final2/vector traits with biome.csv')\n",
    "\n",
    "#create a new dataframe that has the name, lat, long, and temp\n",
    "latlong_5 = temp\n",
    "#then add the traits from the loaded csvs into new columns in latlong_5\n",
    "#now latlong5 has all the biogeography traits\n",
    "latlong_5['temp.range'] = temprange['temp.range']\n",
    "latlong_5['elevation'] = elevation['elevation']\n",
    "latlong_5['rainfall'] = rainfall['rainfall']\n",
    "latlong_5['wind.speed'] = wind['wind.speed']\n",
    "latlong_5['flii'] = flii['flii']\n",
    "latlong_5['temp.var'] = tempvar['temp.var']\n",
    "latlong_5['canopy'] = canopy['canopy']\n",
    "latlong_5['ghm'] = ghm['ghm']\n",
    "latlong_5['tree.cover'] = treecover['tree.cover']\n",
    "latlong_5['crops.cover'] = cropscover['crops.cover']\n",
    "latlong_5['grass.cover'] = grasscover['grass.cover']\n",
    "latlong_5['shrub.cover'] = shrubcover['shrub.cover']\n",
    "latlong_5['urban.cover'] = urbancover['urban.cover']\n",
    "latlong_5['water.perm.cover'] = waterpermcover['water.permanent.cover']\n",
    "latlong_5['water.seas.cover'] = waterseascover['water.seasonal.cover']\n",
    "latlong_5['evi'] = evi['evi']\n",
    "\n",
    "\n",
    "#make an array of the variables\n",
    "biogeo = ['temp', 'temp.range', 'elevation', 'rainfall', 'wind.speed', 'flii', 'temp.var', 'canopy', 'ghm', 'tree.cover', 'crops.cover', 'grass.cover', 'shrub.cover', 'urban.cover', 'water.perm.cover', 'water.seas.cover', 'evi']\n",
    "\n",
    "#match the scientific names of the biogeo dataframe with the whole traits dataframe and write in the data into the traits df\n",
    "for x in range(len(latlong_5)):\n",
    "    for y in range(len(traits)):\n",
    "        for z in range(len(biogeo)):\n",
    "            if latlong_5.loc[x, 'scientificName'] == traits.loc[y, 'species']:\n",
    "                traits.loc[y, biogeo[z]] = latlong_5.loc[x, biogeo[z]]\n",
    "\n",
    "#export the dataframe to your computer\n",
    "traits.to_csv('final2/vector traits with biogeo and biome.csv')"
   ]
  },
  {
   "cell_type": "code",
   "execution_count": 97,
   "metadata": {},
   "outputs": [],
   "source": [
    "#COUNT ECOREGIONS\n",
    "bioeco = pd.read_csv('final2/latlongbioeco.csv')\n",
    "#array of sandfly names that have biome data\n",
    "names_unique = bioeco['scientificName'].unique()\n",
    "#turn the array into a dataframe and rename the column\n",
    "names_df = pd.DataFrame(bioeco['scientificName'].unique())\n",
    "names_df.columns = ['scientificName']\n",
    "\n",
    "#create a for loop that counts how many different eco regions each sandfly appears in\n",
    "for i in range(len(names_unique)):\n",
    "    names_df.loc[i, 'ecoregion.breadth'] = len(bioeco[bioeco['scientificName'] == names_unique[i]]['eco id'].unique())\n",
    "\n",
    "#read in the traits csv\n",
    "traits = pd.read_csv('final2/vector traits with biogeo and biome.csv')\n",
    "#match the count to the proper name in the traits csv and create a column for 'ecoregion.breadth' in traits for it\n",
    "for x in range(len(names_df)):\n",
    "    for y in range(len(traits)):\n",
    "        if names_df.loc[x, 'scientificName'] == traits.loc[y, 'species']:\n",
    "            traits.loc[y, 'ecoregion.breadth'] = names_df.loc[x, 'ecoregion.breadth']\n",
    "            \n",
    "#export to computer  \n",
    "traits.to_csv('final2/vector trait data final.csv')"
   ]
  }
 ],
 "metadata": {
  "kernelspec": {
   "display_name": "Python 3 (ipykernel)",
   "language": "python",
   "name": "python3"
  },
  "language_info": {
   "codemirror_mode": {
    "name": "ipython",
    "version": 3
   },
   "file_extension": ".py",
   "mimetype": "text/x-python",
   "name": "python",
   "nbconvert_exporter": "python",
   "pygments_lexer": "ipython3",
   "version": "3.8.5"
  }
 },
 "nbformat": 4,
 "nbformat_minor": 4
}
